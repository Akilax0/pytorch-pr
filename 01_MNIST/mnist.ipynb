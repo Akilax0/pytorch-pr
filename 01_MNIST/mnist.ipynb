{
 "cells": [
  {
   "cell_type": "markdown",
   "metadata": {},
   "source": [
    "## Import Libraries"
   ]
  },
  {
   "cell_type": "code",
   "execution_count": 25,
   "metadata": {},
   "outputs": [],
   "source": [
    "# https://medium.com/@krishna.ramesh.tx/training-a-cnn-to-distinguish-between-mnist-digits-using-pytorch-620f06aa9ffa\n",
    "\n",
    "import torch, torchvision # for transform images\n",
    "from torch import nn\n",
    "from torch import optim\n",
    "from torchvision.transforms import ToTensor\n",
    "import torch.nn.functional as F\n",
    "import matplotlib.pyplot as plt\n",
    "\n",
    "import copy\n",
    "\n",
    "# torch.cuda.is_available()"
   ]
  },
  {
   "cell_type": "code",
   "execution_count": 4,
   "metadata": {},
   "outputs": [],
   "source": [
    "numb_batch = 64"
   ]
  },
  {
   "cell_type": "markdown",
   "metadata": {},
   "source": [
    "## Getting Data"
   ]
  },
  {
   "cell_type": "code",
   "execution_count": 7,
   "metadata": {},
   "outputs": [],
   "source": [
    "T = torchvision.transforms.Compose([\n",
    "    torchvision.transforms.ToTensor()\n",
    "])\n",
    "\n",
    "\n",
    "train_data = torchvision.datasets.MNIST('mnist_data',train=True, download=True,transform=T)\n",
    "val_data = torchvision.datasets.MNIST('mnist_data',train=False, download=True, transform=T)\n",
    "\n",
    "train_dl = torch.utils.data.DataLoader(train_data, batch_size=numb_batch)\n",
    "val_dl = torch.utils.data.DataLoader(val_data, batch_size = numb_batch)"
   ]
  },
  {
   "cell_type": "code",
   "execution_count": 13,
   "metadata": {},
   "outputs": [
    {
     "data": {
      "text/plain": [
       "<matplotlib.image.AxesImage at 0x7f293d1f76a0>"
      ]
     },
     "execution_count": 13,
     "metadata": {},
     "output_type": "execute_result"
    },
    {
     "data": {
      "image/png": "[encoded data removed]",
      "text/plain": [
       "<Figure size 640x480 with 1 Axes>"
      ]
     },
     "metadata": {},
     "output_type": "display_data"
    }
   ],
   "source": [
    "plt.imshow(train_data[0][0][0], cmap='gray')"
   ]
  },
  {
   "cell_type": "markdown",
   "metadata": {},
   "source": [
    "## Create the Model"
   ]
  },
  {
   "cell_type": "code",
   "execution_count": 16,
   "metadata": {},
   "outputs": [],
   "source": [
    "def create_lenet():\n",
    "    model = nn.Sequential(\n",
    "        nn.Conv2d(1,6,5,padding=2),\n",
    "        nn.ReLU(),\n",
    "        nn.AvgPool2d(2, stride=2),\n",
    "\n",
    "        nn.Conv2d(6,16,5,padding=0),\n",
    "        nn.ReLU(),\n",
    "        nn.AvgPool2d(2,stride=2),\n",
    "\n",
    "        nn.Flatten(),\n",
    "        nn.Linear(400,120),\n",
    "        nn.ReLU(),\n",
    "        nn.Linear(120,84),\n",
    "        nn.ReLU(),\n",
    "        nn.Linear(84,10)\n",
    "    )\n",
    "\n",
    "\n",
    "    return model"
   ]
  },
  {
   "cell_type": "markdown",
   "metadata": {},
   "source": [
    "## Validate Model"
   ]
  },
  {
   "cell_type": "code",
   "execution_count": 17,
   "metadata": {},
   "outputs": [],
   "source": [
    "def validate(model,data):\n",
    "    total =0 \n",
    "    correct = 0\n",
    "    for i, (images,labels) in enumerate(data):\n",
    "        images = images.cuda()\n",
    "        x = model(images)\n",
    "        value, pred = torch.max(x,1)\n",
    "        pred = pred.data.cpu()\n",
    "        total += x.size(0)\n",
    "        correct += torch.sum(pred == labels)\n",
    "    return correct * 100 / total"
   ]
  },
  {
   "cell_type": "markdown",
   "metadata": {},
   "source": [
    "## Training function"
   ]
  },
  {
   "cell_type": "code",
   "execution_count": 27,
   "metadata": {},
   "outputs": [],
   "source": [
    "def train(numb_epoch=3, lr=1e-3, device=\"cpu\"):\n",
    "    accuracies = []\n",
    "    cnn = create_lenet().to(device)\n",
    "    cec = nn.CrossEntropyLoss()\n",
    "    optimizer = optim.Adam(cnn.parameters(), lr = lr)\n",
    "    max_accuracy = 0\n",
    "\n",
    "    for epoch in range(numb_epoch):\n",
    "        for i, (images,labels) in enumerate(train_dl):\n",
    "            images = images.to(device)\n",
    "            labels = labels.to(device)\n",
    "            optimizer.zero_grad()\n",
    "            pred = cnn(images)\n",
    "            loss = cec(pred, labels)\n",
    "            loss.backward()\n",
    "            optimizer.step()\n",
    "\n",
    "        accuracy = float(validate(cnn,val_dl))\n",
    "        accuracies.append(accuracy)\n",
    "        if accuracy > max_accuracy:\n",
    "            best_model = copy.deepcopy(cnn)\n",
    "            max_accuracy = accuracy\n",
    "            print(\"Saving Best Model with Accuracy: \", accuracy)\n",
    "        print(\"Epoch: \", epoch+1, \"Accuracy: \", accuracy, \"%\")\n",
    "    plt.plot(accuracies)\n",
    "    return best_model\n",
    "\n",
    "\n"
   ]
  },
  {
   "cell_type": "markdown",
   "metadata": {},
   "source": [
    "## GPU Availablity"
   ]
  },
  {
   "cell_type": "code",
   "execution_count": 19,
   "metadata": {},
   "outputs": [],
   "source": [
    "if torch.cuda.is_available():\n",
    "    device = torch.device(\"cuda:0\")\n",
    "else:\n",
    "    device = torch.device(\"cpu\")"
   ]
  },
  {
   "cell_type": "code",
   "execution_count": 20,
   "metadata": {},
   "outputs": [
    {
     "data": {
      "text/plain": [
       "device(type='cuda', index=0)"
      ]
     },
     "execution_count": 20,
     "metadata": {},
     "output_type": "execute_result"
    }
   ],
   "source": [
    "device"
   ]
  },
  {
   "cell_type": "markdown",
   "metadata": {},
   "source": [
    "## Training Model"
   ]
  },
  {
   "cell_type": "code",
   "execution_count": 28,
   "metadata": {},
   "outputs": [
    {
     "name": "stdout",
     "output_type": "stream",
     "text": [
      "Saving Best Model with Accuracy:  95.51000213623047\n",
      "Epoch:  1 Accuracy:  95.51000213623047 %\n",
      "Saving Best Model with Accuracy:  97.19999694824219\n",
      "Epoch:  2 Accuracy:  97.19999694824219 %\n",
      "Saving Best Model with Accuracy:  97.80999755859375\n",
      "Epoch:  3 Accuracy:  97.80999755859375 %\n",
      "Saving Best Model with Accuracy:  98.25\n",
      "Epoch:  4 Accuracy:  98.25 %\n",
      "Saving Best Model with Accuracy:  98.48999786376953\n",
      "Epoch:  5 Accuracy:  98.48999786376953 %\n",
      "Saving Best Model with Accuracy:  98.6500015258789\n",
      "Epoch:  6 Accuracy:  98.6500015258789 %\n",
      "Saving Best Model with Accuracy:  98.83000183105469\n",
      "Epoch:  7 Accuracy:  98.83000183105469 %\n",
      "Epoch:  8 Accuracy:  98.7300033569336 %\n",
      "Epoch:  9 Accuracy:  98.80999755859375 %\n",
      "Epoch:  10 Accuracy:  98.69000244140625 %\n",
      "Epoch:  11 Accuracy:  98.69000244140625 %\n",
      "Epoch:  12 Accuracy:  98.83000183105469 %\n",
      "Epoch:  13 Accuracy:  98.80000305175781 %\n",
      "Epoch:  14 Accuracy:  98.61000061035156 %\n",
      "Epoch:  15 Accuracy:  98.80999755859375 %\n",
      "Saving Best Model with Accuracy:  98.86000061035156\n",
      "Epoch:  16 Accuracy:  98.86000061035156 %\n",
      "Saving Best Model with Accuracy:  98.91999816894531\n",
      "Epoch:  17 Accuracy:  98.91999816894531 %\n",
      "Saving Best Model with Accuracy:  99.0199966430664\n",
      "Epoch:  18 Accuracy:  99.0199966430664 %\n",
      "Epoch:  19 Accuracy:  98.86000061035156 %\n",
      "Epoch:  20 Accuracy:  98.79000091552734 %\n",
      "Epoch:  21 Accuracy:  98.91999816894531 %\n",
      "Epoch:  22 Accuracy:  98.8499984741211 %\n",
      "Epoch:  23 Accuracy:  98.91000366210938 %\n",
      "Epoch:  24 Accuracy:  98.87999725341797 %\n",
      "Epoch:  25 Accuracy:  99.0 %\n",
      "Epoch:  26 Accuracy:  98.91000366210938 %\n",
      "Epoch:  27 Accuracy:  98.80000305175781 %\n",
      "Epoch:  28 Accuracy:  98.91000366210938 %\n",
      "Epoch:  29 Accuracy:  98.88999938964844 %\n",
      "Saving Best Model with Accuracy:  99.02999877929688\n",
      "Epoch:  30 Accuracy:  99.02999877929688 %\n",
      "Epoch:  31 Accuracy:  99.0199966430664 %\n",
      "Epoch:  32 Accuracy:  99.0 %\n",
      "Epoch:  33 Accuracy:  98.94000244140625 %\n",
      "Epoch:  34 Accuracy:  98.83999633789062 %\n",
      "Saving Best Model with Accuracy:  99.11000061035156\n",
      "Epoch:  35 Accuracy:  99.11000061035156 %\n",
      "Epoch:  36 Accuracy:  98.94999694824219 %\n",
      "Epoch:  37 Accuracy:  98.87000274658203 %\n",
      "Epoch:  38 Accuracy:  98.72000122070312 %\n",
      "Epoch:  39 Accuracy:  99.0199966430664 %\n",
      "Epoch:  40 Accuracy:  98.91000366210938 %\n"
     ]
    },
    {
     "data": {
      "image/png": "[encoded data removed]",
      "text/plain": [
       "<Figure size 640x480 with 1 Axes>"
      ]
     },
     "metadata": {},
     "output_type": "display_data"
    }
   ],
   "source": [
    "lenet = train(40,device=device)"
   ]
  },
  {
   "cell_type": "code",
   "execution_count": 30,
   "metadata": {},
   "outputs": [
    {
     "data": {
      "text/plain": [
       "'\\nloading the model\\n\\nlenet = create_lenet().to(device)\\nlenet.load_state_dict(torch.load(\"lenet.pth\"))\\nlenet.eval()\\n\\n'"
      ]
     },
     "execution_count": 30,
     "metadata": {},
     "output_type": "execute_result"
    }
   ],
   "source": [
    "torch.save(lenet.state_dict(), \"lenet.pth\")\n",
    "\n",
    "\"\"\"\n",
    "loading the model\n",
    "\n",
    "lenet = create_lenet().to(device)\n",
    "lenet.load_state_dict(torch.load(\"lenet.pth\"))\n",
    "lenet.eval()\n",
    "\n",
    "\"\"\""
   ]
  },
  {
   "cell_type": "code",
   "execution_count": null,
   "metadata": {},
   "outputs": [],
   "source": []
  }
 ],
 "metadata": {
  "kernelspec": {
   "display_name": "Python 3.9.13 ('base')",
   "language": "python",
   "name": "python3"
  },
  "language_info": {
   "codemirror_mode": {
    "name": "ipython",
    "version": 3
   },
   "file_extension": ".py",
   "mimetype": "text/x-python",
   "name": "python",
   "nbconvert_exporter": "python",
   "pygments_lexer": "ipython3",
   "version": "3.9.13"
  },
  "orig_nbformat": 4,
  "vscode": {
   "interpreter": {
    "hash": "9d2f8ea1361ffc827d3a4bfd68edcf424926f3134a4221c3492c3ebe8ce6d4c9"
   }
  }
 },
 "nbformat": 4,
 "nbformat_minor": 2
}
